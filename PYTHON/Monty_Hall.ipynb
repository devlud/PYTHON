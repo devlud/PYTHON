{
 "cells": [
  {
   "cell_type": "markdown",
   "metadata": {},
   "source": [
    "# Problème simple mais peu intuitif des trois portes.\n",
    "\n",
    "\n",
    "## Description :\n",
    "\n",
    "Lors d'un jeu télévisé (Let's Make a Deal!), le présentateur (Monty Hall) montrait trois portes fermées au candidat et affirmait que derrière l'une d'entre-elles se cachait un cadeau (une voiture) et qu'il suffisait d'indiquer la bonne porte pour gagner.\n",
    "\n",
    "- En supposant que l'emplacement du cadeau a été choisi au hasard et qu'il y a équiprobabilité, le candidat a une chance sur trois de désigner la bonne porte => pour l'instant on n'ouvre pas cette porte.\n",
    "\n",
    "- Ensuite le présentateur ouvre l'une des deux portes autre que celle qui a été choisie et autre que celle qui cache la voiture.\n",
    "\n",
    "- Le candidat a le choix entre maintenir son premier choix ou le modifier. Que lui conseillez-vous de faire ?\n",
    "\n",
    "## Solution :\n",
    "\n",
    "Lorsque le candidat maintient son choix sa probabilité de gagner est 1/3.\n",
    "(C'est la probabilité de désigner la bonne porte lorsque les trois sont fermées).\n",
    "\n",
    "Sinon, lorsqu'il change de porte, l'événement est contraire du précédent et la probabilité de gagner est donc 2/3.\n",
    "(Pour un même premier choix et une même position du cadeau derrière une porte, trouver la bonne porte par l'une des stratégies correspond à ne pas la trouver par l'autre)."
   ]
  },
  {
   "cell_type": "code",
   "execution_count": 23,
   "metadata": {},
   "outputs": [
    {
     "name": "stdout",
     "output_type": "stream",
     "text": [
      "0.33209\n",
      "0.6679\n"
     ]
    }
   ],
   "source": [
    "from random import randint, seed\n",
    "\n",
    "# seed() : horloge système\n",
    "seed()\n",
    "\n",
    "# randint(0,2) : nombre entre 0 et 2\n",
    "\n",
    "garder = 0\n",
    "garder2 = 0\n",
    "\n",
    "for i in range(1,100000):\n",
    "    porte_voiture  = randint(0,2)\n",
    "    porte_candidat = randint(0,2)\n",
    "\n",
    "    if porte_voiture == porte_candidat:\n",
    "        garder += 1\n",
    "    else:\n",
    "        garder2 += 1\n",
    "        \n",
    "# 1/3 de chance\n",
    "print(garder/100000)\n",
    "\n",
    "# 2/3 de chance\n",
    "print(garder2/100000)\n",
    "\n"
   ]
  },
  {
   "cell_type": "markdown",
   "metadata": {},
   "source": [
    "Supposons qu'il y a non pas trois portes mais 1 milliard de portes. Vous choisissez une porte A et si le jeu s'arrêtait là, il y aurait peu de chance que vous gagniez (0,0000001 % seulement). Mais heureusement le jeu continue, il reste 999 999 999 autres portes dont une est peut-être la bonne (c'est même presque certain !). Le présentateur ouvre 999 999 998 de ces portes (parmi celles qui ne contiennent évidemment pas le cadeau), il reste une seule porte appelée B. Que faites-vous ?\n",
    "Moi, je change mon premier choix, je désigne B et j'ai 99,9999999 % de chances de gagner le gros lot !"
   ]
  },
  {
   "cell_type": "code",
   "execution_count": 25,
   "metadata": {},
   "outputs": [
    {
     "name": "stdout",
     "output_type": "stream",
     "text": [
      "1e-06\n",
      "0.999998\n"
     ]
    }
   ],
   "source": [
    "from random import randint, seed\n",
    "\n",
    "seed()\n",
    "\n",
    "garder = 0\n",
    "garder2 = 0\n",
    "\n",
    "for i in range(1,1000000):\n",
    "    porte_voiture  = randint(0,999999)\n",
    "    porte_candidat = randint(0,999999)\n",
    "\n",
    "    if porte_voiture == porte_candidat:\n",
    "        garder += 1\n",
    "    else:\n",
    "        garder2 += 1\n",
    "        \n",
    "# 0.000001 de chance\n",
    "print(garder/1000000)\n",
    "\n",
    "# 0.999998 de chance\n",
    "print(garder2/1000000)"
   ]
  },
  {
   "cell_type": "code",
   "execution_count": null,
   "metadata": {},
   "outputs": [],
   "source": []
  }
 ],
 "metadata": {
  "kernelspec": {
   "display_name": "Python 3",
   "language": "python",
   "name": "python3"
  },
  "language_info": {
   "codemirror_mode": {
    "name": "ipython",
    "version": 3
   },
   "file_extension": ".py",
   "mimetype": "text/x-python",
   "name": "python",
   "nbconvert_exporter": "python",
   "pygments_lexer": "ipython3",
   "version": "3.7.6"
  }
 },
 "nbformat": 4,
 "nbformat_minor": 4
}
