{
 "cells": [
  {
   "cell_type": "markdown",
   "metadata": {},
   "source": [
    "# C'est un titre\n",
    "## C'est un titre plus petit\n",
    "### encore plus\n",
    "* UNE PUCE\n",
    "* UNE PUCE\n",
    "\n",
    "**POUR METTRE EN GRAS**\n",
    "\n",
    "*en italique*\n",
    "\n",
    "| Titre 1       |     Titre 2     |        Titre 3 |\n",
    "| :------------ | :-------------: | -------------: |\n",
    "| Colonne       |     Colonne     |        Colonne |\n",
    "| Alignée à     |   Alignée au    |      Alignée à |\n",
    "| Gauche        |     Centre      |         Droite |"
   ]
  },
  {
   "cell_type": "code",
   "execution_count": 2,
   "metadata": {},
   "outputs": [
    {
     "name": "stdout",
     "output_type": "stream",
     "text": [
      "Python es 👍\n",
      "Python es 😉\n"
     ]
    }
   ],
   "source": [
    "# conda install -c conda-forge emoji\n",
    "# tapez sur google \"full emoji list\" , allez sur le site : https://unicode.org/emoji/charts/full-emoji-list.html\n",
    "# et prendre la colonne CLDR Short Name : \"thumbs up\" et remplacer le blanc par un _\n",
    "from emoji import emojize\n",
    "print(emojize(\"Python es :thumbs_up:\"))\n",
    "print(emojize(\"Python es :winking_face:\"))"
   ]
  },
  {
   "cell_type": "markdown",
   "metadata": {},
   "source": [
    "# LATEX"
   ]
  },
  {
   "cell_type": "markdown",
   "metadata": {},
   "source": [
    "$\\int_0^\\infty x^{-2}dx$"
   ]
  },
  {
   "cell_type": "markdown",
   "metadata": {},
   "source": [
    "# lien de tous les logiciels\n",
    "\n",
    "https://github.com/jupyter/jupyter/wiki/Jupyter-kernels"
   ]
  },
  {
   "cell_type": "markdown",
   "metadata": {},
   "source": [
    "# OPERATEUR LAMBDA"
   ]
  },
  {
   "cell_type": "markdown",
   "metadata": {},
   "source": [
    "## Création d'une fonction"
   ]
  },
  {
   "cell_type": "code",
   "execution_count": null,
   "metadata": {},
   "outputs": [],
   "source": [
    "### fonction normale\n",
    "\n",
    "def add(x,y):\n",
    "    return(x+y)\n",
    "\n",
    "print(add(2,3))\n",
    "\n",
    "### l'opérateur lambda, utiliser pour créer de petite fonction, une fois <=> fonction anonyme\n",
    "\n",
    "add2 = lambda x,y : x + y\n",
    "\n",
    "print(add2(2,3))\n",
    "\n",
    "print(type(add))\n",
    "print(type(add2))\n",
    "\n",
    "# une ligne à la place de 2, renvoi une fonction"
   ]
  },
  {
   "cell_type": "markdown",
   "metadata": {},
   "source": [
    "## Retourner une liste"
   ]
  },
  {
   "cell_type": "code",
   "execution_count": 18,
   "metadata": {},
   "outputs": [
    {
     "name": "stdout",
     "output_type": "stream",
     "text": [
      "5\n",
      "5\n",
      "<class 'function'>\n",
      "<class 'function'>\n",
      "[2, 4, 6, 8]\n",
      "[2, 4, 6, 8]\n"
     ]
    }
   ],
   "source": [
    "### la fonction map, parcours cahque élément d'une liste\n",
    "\n",
    "def multiply2(x):\n",
    "    return(x*2)\n",
    "\n",
    "print(list(map(multiply2,[1,2,3,4])))\n",
    "\n",
    "print(list(map(lambda x:x*2,[1,2,3,4])))\n",
    "\n",
    "# juste une ligne de code à la place de 3 lignes de code\n",
    "\n"
   ]
  },
  {
   "cell_type": "markdown",
   "metadata": {},
   "source": [
    "## itération sur un dictionnaire"
   ]
  },
  {
   "cell_type": "code",
   "execution_count": 19,
   "metadata": {},
   "outputs": [
    {
     "name": "stdout",
     "output_type": "stream",
     "text": [
      "['python', 'java']\n",
      "[100, 80]\n",
      "[True, False]\n"
     ]
    }
   ],
   "source": [
    "dict_a = [{'name': 'python','points':10},{'name':'java','points':8}]\n",
    "\n",
    "print(list(map(lambda x : x['name'],dict_a) ))\n",
    "\n",
    "print(list(map(lambda x : x['points']*10,dict_a) ))\n",
    "\n",
    "print(list(map(lambda x : x['name']==\"python\",dict_a) ))\n",
    "\n",
    "# chaque dictionnaire sera passé comme un paramètre à la fonction lambda, le résultat de la fonction lambda\n",
    "# pour chaque disctionnaire sera donné par la sortie"
   ]
  },
  {
   "cell_type": "markdown",
   "metadata": {},
   "source": [
    "##  itération multiples dans une fonction map"
   ]
  },
  {
   "cell_type": "code",
   "execution_count": 20,
   "metadata": {},
   "outputs": [
    {
     "name": "stdout",
     "output_type": "stream",
     "text": [
      "[11, 22, 33]\n"
     ]
    }
   ],
   "source": [
    "list_a = [1,2,3]\n",
    "list_b = [10,20,30]\n",
    "\n",
    "print(list(map(lambda x, y: x+y, list_a, list_b)))"
   ]
  },
  {
   "cell_type": "markdown",
   "metadata": {},
   "source": [
    "## la fonction filter"
   ]
  },
  {
   "cell_type": "code",
   "execution_count": 22,
   "metadata": {},
   "outputs": [
    {
     "data": {
      "text/plain": [
       "[2, 4, 6]"
      ]
     },
     "execution_count": 22,
     "metadata": {},
     "output_type": "execute_result"
    }
   ],
   "source": [
    "a =[1,2,3,4,5,6]\n",
    "\n",
    "list(filter(lambda x : x % 2 == 0, a))\n",
    "\n",
    "# comme map, la fonction filter retourne une liste mais a seulemtn une itération dans l'input"
   ]
  },
  {
   "cell_type": "code",
   "execution_count": 24,
   "metadata": {},
   "outputs": [
    {
     "data": {
      "text/plain": [
       "[{'name': 'python', 'points': 10}]"
      ]
     },
     "execution_count": 24,
     "metadata": {},
     "output_type": "execute_result"
    }
   ],
   "source": [
    "dict_a = [{'name': 'python','points':10},{'name':'java','points':8}]\n",
    "\n",
    "list(filter( lambda x : x['name']=='python',dict_a))"
   ]
  },
  {
   "cell_type": "markdown",
   "metadata": {},
   "source": [
    "# C'est un titre <a class=\"anchor\" id=\"first-bullet\"></a>"
   ]
  },
  {
   "cell_type": "markdown",
   "metadata": {},
   "source": [
    "# METTRE DU R DANS PYTHON"
   ]
  },
  {
   "cell_type": "code",
   "execution_count": 58,
   "metadata": {},
   "outputs": [],
   "source": [
    "## charge pas rpy2 dommage : permet de mélanger R et python : commande magique\n",
    "\n",
    "# conda install -c r rpy\n",
    "\n",
    "%load_ext rpy.ipython"
   ]
  },
  {
   "cell_type": "markdown",
   "metadata": {},
   "source": [
    "# NBEXTENSION"
   ]
  },
  {
   "cell_type": "code",
   "execution_count": null,
   "metadata": {},
   "outputs": [],
   "source": [
    "# pip install jupyter_contrib_nbextensions && jupyter contrib nbextension install "
   ]
  },
  {
   "cell_type": "markdown",
   "metadata": {},
   "source": [
    "\n",
    "# ALL & ANY"
   ]
  },
  {
   "cell_type": "code",
   "execution_count": 2,
   "metadata": {},
   "outputs": [
    {
     "name": "stdout",
     "output_type": "stream",
     "text": [
      "au moins un élément est vrai\n",
      "au moins un élément est vrai et au moins un est faux\n"
     ]
    }
   ],
   "source": [
    "x= [True,True,False]\n",
    "if any(x):\n",
    "    print(\"au moins un élément est vrai\")\n",
    "if all(x):\n",
    "    print(\"pas tout les éléments sont vrais\")\n",
    "if any(x) and not all(x):\n",
    "    print(\"au moins un élément est vrai et au moins un est faux\")"
   ]
  },
  {
   "cell_type": "markdown",
   "metadata": {},
   "source": [
    "# Howdoi"
   ]
  },
  {
   "cell_type": "code",
   "execution_count": 3,
   "metadata": {},
   "outputs": [
    {
     "ename": "SyntaxError",
     "evalue": "invalid syntax (<ipython-input-3-a5a084a011bc>, line 1)",
     "output_type": "error",
     "traceback": [
      "\u001b[0;36m  File \u001b[0;32m\"<ipython-input-3-a5a084a011bc>\"\u001b[0;36m, line \u001b[0;32m1\u001b[0m\n\u001b[0;31m    pip install howdoi\u001b[0m\n\u001b[0m              ^\u001b[0m\n\u001b[0;31mSyntaxError\u001b[0m\u001b[0;31m:\u001b[0m invalid syntax\n"
     ]
    }
   ],
   "source": [
    "# a mettre le tout dans la console\n",
    "pip install howdoi\n",
    "# comment ajouter une colonne en python dans un dataframe\n",
    "howdoi python add column to python dataframe\n",
    "#sommer deux nombres en java\n",
    "howdoi sum two numbers in java"
   ]
  },
  {
   "cell_type": "markdown",
   "metadata": {},
   "source": [
    "# UUID : UNIVERSALLY UNIQUE IDs"
   ]
  },
  {
   "cell_type": "markdown",
   "metadata": {},
   "source": [
    "ca peut créer un id unique aléatoire de 128 bits, il y a $2^{112}$ UUIDs possibles"
   ]
  },
  {
   "cell_type": "code",
   "execution_count": 4,
   "metadata": {},
   "outputs": [
    {
     "name": "stdout",
     "output_type": "stream",
     "text": [
      "4fb94d12-3664-4df1-82d4-d72e6a529be6\n"
     ]
    }
   ],
   "source": [
    "import uuid\n",
    "user_id = uuid.uuid4()\n",
    "print(user_id)"
   ]
  },
  {
   "cell_type": "markdown",
   "metadata": {},
   "source": [
    "# WIKIPEDIA"
   ]
  },
  {
   "cell_type": "code",
   "execution_count": 8,
   "metadata": {},
   "outputs": [
    {
     "name": "stdout",
     "output_type": "stream",
     "text": [
      "Python (/ˈpaɪ.θɑn/) est un langage de programmation interprété, multi-paradigme et multiplateformes. Il favorise la programmation impérative structurée, fonctionnelle et orientée objet. Il est doté d'un typage dynamique fort, d'une gestion automatique de la mémoire par ramasse-miettes et d'un système de gestion d'exceptions ; il est ainsi similaire à Perl, Ruby, Scheme, Smalltalk et Tcl.\n",
      "Le langage Python est placé sous une licence libre proche de la licence BSD et fonctionne sur la plupart des plates-formes informatiques, des smartphones aux ordinateurs centraux, de Windows à Unix avec notamment GNU/Linux en passant par macOS, ou encore Android, iOS, et peut aussi être traduit en Java ou .NET. Il est conçu pour optimiser la productivité des programmeurs en offrant des outils de haut niveau et une syntaxe simple à utiliser.\n",
      "Il est également apprécié par certains pédagogues qui y trouvent un langage où la syntaxe, clairement séparée des mécanismes de bas niveau, permet une initiation aisée aux concepts de base de la programmation.\n"
     ]
    }
   ],
   "source": [
    "# conda install -c conda-forge wikipedia\n",
    "import wikipedia\n",
    "wikipedia.set_lang(\"fr\")\n",
    "resultat = wikipedia.page(\"Python\")\n",
    "print(resultat.summary)"
   ]
  },
  {
   "cell_type": "markdown",
   "metadata": {},
   "source": [
    "# PPRINT ( PRETTY PRINT )"
   ]
  },
  {
   "cell_type": "code",
   "execution_count": 12,
   "metadata": {},
   "outputs": [
    {
     "name": "stdout",
     "output_type": "stream",
     "text": [
      "{'info': {'page': 1,\n",
      "          'results': 1,\n",
      "          'seed': '74e49bbd93fb8256',\n",
      "          'version': '1.3'},\n",
      " 'results': [{'cell': '0174-3859782',\n",
      "              'dob': {'age': 62, 'date': '1958-09-29T11:27:48.951Z'},\n",
      "              'email': 'yasmin.ganser@example.com',\n",
      "              'gender': 'female',\n",
      "              'id': {'name': '', 'value': None},\n",
      "              'location': {'city': 'Nordhausen',\n",
      "                           'coordinates': {'latitude': '-42.5844',\n",
      "                                           'longitude': '169.4519'},\n",
      "                           'country': 'Germany',\n",
      "                           'postcode': 23118,\n",
      "                           'state': 'Thüringen',\n",
      "                           'street': {'name': 'Mittelstraße', 'number': 5084},\n",
      "                           'timezone': {'description': 'Bangkok, Hanoi, '\n",
      "                                                       'Jakarta',\n",
      "                                        'offset': '+7:00'}},\n",
      "              'login': {'md5': 'edf89f3a2b2b169b3cf3cc735baa5992',\n",
      "                        'password': 'hawaiian',\n",
      "                        'salt': '2ryx3YsD',\n",
      "                        'sha1': '8ee6e1648c2ada15dedd5a5cd5056fd42141d68a',\n",
      "                        'sha256': '34db4812732a482b853c8c94a1e73f25f378e8622967d4dbbd5f5b63198d4fe1',\n",
      "                        'username': 'ticklishfrog356',\n",
      "                        'uuid': 'f39d8aaf-2d46-45dc-876d-544ad72d9813'},\n",
      "              'name': {'first': 'Yasmin', 'last': 'Ganser', 'title': 'Mrs'},\n",
      "              'nat': 'DE',\n",
      "              'phone': '0418-6502389',\n",
      "              'picture': {'large': 'https://randomuser.me/api/portraits/women/83.jpg',\n",
      "                          'medium': 'https://randomuser.me/api/portraits/med/women/83.jpg',\n",
      "                          'thumbnail': 'https://randomuser.me/api/portraits/thumb/women/83.jpg'},\n",
      "              'registered': {'age': 7, 'date': '2013-07-16T21:52:32.499Z'}}]}\n"
     ]
    }
   ],
   "source": [
    "import requests\n",
    "import pprint\n",
    "url = \"https://randomuser.me/api/?results=1\"\n",
    "users = requests.get(url).json()\n",
    "#print(users)\n",
    "pprint.pprint(users)"
   ]
  },
  {
   "cell_type": "markdown",
   "metadata": {},
   "source": [
    "# ZIP\n",
    "\n",
    "Faire un dictionnaire avec deux listes"
   ]
  },
  {
   "cell_type": "code",
   "execution_count": 13,
   "metadata": {},
   "outputs": [
    {
     "name": "stdout",
     "output_type": "stream",
     "text": [
      "{'a': 1, 'b': 2, 'c': 3}\n"
     ]
    }
   ],
   "source": [
    "keys = [\"a\",\"b\",\"c\"]\n",
    "vals = [1,2,3]\n",
    "zipped = dict(zip(keys,vals))\n",
    "print(zipped)"
   ]
  },
  {
   "cell_type": "markdown",
   "metadata": {},
   "source": [
    "# SYMPY"
   ]
  },
  {
   "cell_type": "code",
   "execution_count": 28,
   "metadata": {},
   "outputs": [
    {
     "name": "stdout",
     "output_type": "stream",
     "text": [
      "-sin(x)\n",
      "2*x*exp(x**2)\n",
      "24*x\n",
      "24*x\n",
      "sin(x)\n",
      "AccumBounds(-1, 1)\n"
     ]
    },
    {
     "data": {
      "text/latex": [
       "$\\displaystyle \\infty$"
      ],
      "text/plain": [
       "oo"
      ]
     },
     "execution_count": 28,
     "metadata": {},
     "output_type": "execute_result"
    }
   ],
   "source": [
    "from sympy import *\n",
    "\n",
    "x,y,z = symbols('x y z')\n",
    "\n",
    "# dérivé\n",
    "print(diff(cos(x),x))\n",
    "\n",
    "print(diff(exp(x**2),x))\n",
    "\n",
    "print(diff(x**4,x,x,x))\n",
    "\n",
    "print(diff(x**4,x,3))\n",
    "\n",
    "# primitive\n",
    "\n",
    "print(integrate(cos(x),x))\n",
    "\n",
    "print(integrate(cos(x),(x,0,oo)))\n",
    "\n",
    "# limite\n",
    "\n",
    "limit(sin(x)/x,x,0)\n",
    "\n",
    "limit(1/x,x,0,'+')"
   ]
  },
  {
   "cell_type": "markdown",
   "metadata": {},
   "source": [
    "# WIDGET"
   ]
  },
  {
   "cell_type": "code",
   "execution_count": 54,
   "metadata": {},
   "outputs": [
    {
     "data": {
      "application/vnd.jupyter.widget-view+json": {
       "model_id": "8d09a8b09b144b009e38c37e3ba2941c",
       "version_major": 2,
       "version_minor": 0
      },
      "text/plain": [
       "Text(value='Name')"
      ]
     },
     "metadata": {},
     "output_type": "display_data"
    },
    {
     "data": {
      "application/vnd.jupyter.widget-view+json": {
       "model_id": "71ddf56c2df94026866cd9e9aa9b11ea",
       "version_major": 2,
       "version_minor": 0
      },
      "text/plain": [
       "IntSlider(value=0, description='Age:')"
      ]
     },
     "metadata": {},
     "output_type": "display_data"
    }
   ],
   "source": [
    "import ipywidgets as wg\n",
    "from IPython.display import display\n",
    "\n",
    "myName = wg.Text(value='Name')\n",
    "myAge = wg.IntSlider(description='Age:')\n",
    "display(myName,myAge)\n",
    "\n"
   ]
  },
  {
   "cell_type": "code",
   "execution_count": 53,
   "metadata": {},
   "outputs": [
    {
     "name": "stdout",
     "output_type": "stream",
     "text": [
      "lud is 33 years old\n"
     ]
    }
   ],
   "source": [
    "### new cell\n",
    "print(myName.value + ' is ' + str(myAge.value) + ' years old')"
   ]
  },
  {
   "cell_type": "code",
   "execution_count": 55,
   "metadata": {},
   "outputs": [
    {
     "name": "stdout",
     "output_type": "stream",
     "text": [
      "Name: lud\n",
      "Age: 31\n"
     ]
    }
   ],
   "source": [
    "# equivalence javascript\n",
    "myName = input('Name: ')\n",
    "myAge = input('Age: ')"
   ]
  },
  {
   "cell_type": "code",
   "execution_count": 57,
   "metadata": {},
   "outputs": [
    {
     "name": "stdout",
     "output_type": "stream",
     "text": [
      "Name: lud\n",
      "Age: 31\n"
     ]
    }
   ],
   "source": [
    "myName = input('Name: ')\n",
    "try:\n",
    "   myAge = int(input('Age: '))\n",
    "except:\n",
    "   print ('Invalid age, please enter a number')"
   ]
  },
  {
   "cell_type": "markdown",
   "metadata": {},
   "source": [
    "# ASCII"
   ]
  },
  {
   "cell_type": "code",
   "execution_count": 2,
   "metadata": {},
   "outputs": [
    {
     "ename": "LookupError",
     "evalue": "'hex' is not a text encoding; use codecs.encode() to handle arbitrary codecs",
     "output_type": "error",
     "traceback": [
      "\u001b[0;31m---------------------------------------------------------------------------\u001b[0m",
      "\u001b[0;31mLookupError\u001b[0m                               Traceback (most recent call last)",
      "\u001b[0;32m<ipython-input-2-4f05c9adfd54>\u001b[0m in \u001b[0;36m<module>\u001b[0;34m\u001b[0m\n\u001b[1;32m      1\u001b[0m \u001b[0mchaine\u001b[0m \u001b[0;34m=\u001b[0m \u001b[0;34m\"Bonjour le monde\"\u001b[0m\u001b[0;34m\u001b[0m\u001b[0;34m\u001b[0m\u001b[0m\n\u001b[0;32m----> 2\u001b[0;31m \u001b[0mchaine\u001b[0m\u001b[0;34m.\u001b[0m\u001b[0mencode\u001b[0m\u001b[0;34m(\u001b[0m\u001b[0;34m'hex'\u001b[0m\u001b[0;34m)\u001b[0m\u001b[0;34m\u001b[0m\u001b[0;34m\u001b[0m\u001b[0m\n\u001b[0m",
      "\u001b[0;31mLookupError\u001b[0m: 'hex' is not a text encoding; use codecs.encode() to handle arbitrary codecs"
     ]
    }
   ],
   "source": [
    "\n",
    "chaine = \"Bonjour le monde\"\n",
    "chaine.encode('hex')\n"
   ]
  },
  {
   "cell_type": "code",
   "execution_count": 9,
   "metadata": {},
   "outputs": [
    {
     "name": "stdout",
     "output_type": "stream",
     "text": [
      "66.111.110.106.111.117.114\n",
      "66\n",
      "111\n",
      "110\n",
      "106\n",
      "111\n",
      "117\n",
      "114\n"
     ]
    }
   ],
   "source": [
    "to_ascii = lambda s: '.'.join([str(ord(c)) for c in s])\n",
    "print(to_ascii('Bonjour'))# 66.111.110.106.111.117.114\n",
    "\n",
    "#ou\n",
    "\n",
    "chaine=\"Bonjour\"\n",
    "for car in chaine:\n",
    "    print(ord(car))"
   ]
  },
  {
   "cell_type": "code",
   "execution_count": null,
   "metadata": {},
   "outputs": [],
   "source": []
  },
  {
   "cell_type": "code",
   "execution_count": null,
   "metadata": {},
   "outputs": [],
   "source": []
  },
  {
   "cell_type": "code",
   "execution_count": null,
   "metadata": {},
   "outputs": [],
   "source": []
  },
  {
   "cell_type": "code",
   "execution_count": null,
   "metadata": {},
   "outputs": [],
   "source": []
  }
 ],
 "metadata": {
  "kernelspec": {
   "display_name": "Python 3",
   "language": "python",
   "name": "python3"
  },
  "language_info": {
   "codemirror_mode": {
    "name": "ipython",
    "version": 3
   },
   "file_extension": ".py",
   "mimetype": "text/x-python",
   "name": "python",
   "nbconvert_exporter": "python",
   "pygments_lexer": "ipython3",
   "version": "3.7.6"
  }
 },
 "nbformat": 4,
 "nbformat_minor": 4
}
